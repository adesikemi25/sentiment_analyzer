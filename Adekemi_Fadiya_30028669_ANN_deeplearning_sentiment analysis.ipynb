{
 "cells": [
  {
   "cell_type": "raw",
   "id": "93f0b3e8",
   "metadata": {},
   "source": [
    "Name Adekemi Fadiya\n",
    "Student Number: 30028669\n",
    "Individual Project- Develop a Sentiment Analyser\n",
    "This program use the Artificial Neural Network(ANN) to build  a classifier for comparison"
   ]
  },
  {
   "cell_type": "markdown",
   "id": "b4a7fe5f",
   "metadata": {},
   "source": [
    "# Import the necessary libraries"
   ]
  },
  {
   "cell_type": "code",
   "execution_count": 1,
   "id": "59134013",
   "metadata": {},
   "outputs": [],
   "source": [
    "import numpy as np\n",
    "import pandas as pd\n",
    "import re\n",
    "from wordcloud import WordCloud\n",
    "from sklearn.feature_extraction.text import TfidfVectorizer\n",
    "from sklearn.model_selection import train_test_split\n",
    "import nltk\n",
    "from nltk.corpus import stopwords\n",
    "import matplotlib.pyplot as plt\n",
    "import seaborn as sns\n",
    "from pandas import set_option\n",
    "from sklearn import set_config\n",
    "set_config(display=\"diagram\")\n",
    "set_option(\"display.width\", 100)\n",
    "set_option(\"display.precision\", 3)"
   ]
  },
  {
   "cell_type": "markdown",
   "id": "d79a3cf2",
   "metadata": {},
   "source": [
    "# Data Preprocessing"
   ]
  },
  {
   "cell_type": "code",
   "execution_count": 2,
   "id": "e07cb31f",
   "metadata": {},
   "outputs": [
    {
     "data": {
      "text/html": [
       "<div>\n",
       "<style scoped>\n",
       "    .dataframe tbody tr th:only-of-type {\n",
       "        vertical-align: middle;\n",
       "    }\n",
       "\n",
       "    .dataframe tbody tr th {\n",
       "        vertical-align: top;\n",
       "    }\n",
       "\n",
       "    .dataframe thead th {\n",
       "        text-align: right;\n",
       "    }\n",
       "</style>\n",
       "<table border=\"1\" class=\"dataframe\">\n",
       "  <thead>\n",
       "    <tr style=\"text-align: right;\">\n",
       "      <th></th>\n",
       "      <th>Id</th>\n",
       "      <th>ProductId</th>\n",
       "      <th>UserId</th>\n",
       "      <th>ProfileName</th>\n",
       "      <th>HelpfulnessNumerator</th>\n",
       "      <th>HelpfulnessDenominator</th>\n",
       "      <th>Ratings</th>\n",
       "      <th>Time</th>\n",
       "      <th>Summary</th>\n",
       "      <th>Text</th>\n",
       "      <th>Score</th>\n",
       "    </tr>\n",
       "  </thead>\n",
       "  <tbody>\n",
       "    <tr>\n",
       "      <th>0</th>\n",
       "      <td>360446</td>\n",
       "      <td>B004LI9YAE</td>\n",
       "      <td>ALDAF4VVLFRHP</td>\n",
       "      <td>Patricia L. Brouillette</td>\n",
       "      <td>0</td>\n",
       "      <td>0</td>\n",
       "      <td>5</td>\n",
       "      <td>1333152000</td>\n",
       "      <td>Worth getting</td>\n",
       "      <td>My cats really love these treats. They come ru...</td>\n",
       "      <td>1</td>\n",
       "    </tr>\n",
       "    <tr>\n",
       "      <th>1</th>\n",
       "      <td>284030</td>\n",
       "      <td>B0051COPH6</td>\n",
       "      <td>A240FRPD4MEXND</td>\n",
       "      <td>Phyllis Staff</td>\n",
       "      <td>0</td>\n",
       "      <td>0</td>\n",
       "      <td>5</td>\n",
       "      <td>1343606400</td>\n",
       "      <td>Caregivers Alert -- This Product is Good for E...</td>\n",
       "      <td>Wow!  I wish I'd known about this baby food wh...</td>\n",
       "      <td>1</td>\n",
       "    </tr>\n",
       "    <tr>\n",
       "      <th>2</th>\n",
       "      <td>466446</td>\n",
       "      <td>B000G6O2QG</td>\n",
       "      <td>A2BLJGGWN8GTXQ</td>\n",
       "      <td>Sean</td>\n",
       "      <td>0</td>\n",
       "      <td>0</td>\n",
       "      <td>5</td>\n",
       "      <td>1325721600</td>\n",
       "      <td>Salty and vinegary!!!</td>\n",
       "      <td>These are the strongest tasting salt and vineg...</td>\n",
       "      <td>1</td>\n",
       "    </tr>\n",
       "    <tr>\n",
       "      <th>3</th>\n",
       "      <td>484788</td>\n",
       "      <td>B004P7QDQO</td>\n",
       "      <td>A3MOKEX63Y3SEV</td>\n",
       "      <td>Barbara</td>\n",
       "      <td>1</td>\n",
       "      <td>1</td>\n",
       "      <td>5</td>\n",
       "      <td>1315353600</td>\n",
       "      <td>YUMMY!</td>\n",
       "      <td>The thing that caught my eye about this was th...</td>\n",
       "      <td>1</td>\n",
       "    </tr>\n",
       "    <tr>\n",
       "      <th>4</th>\n",
       "      <td>299042</td>\n",
       "      <td>B003YV7ZRI</td>\n",
       "      <td>A3RG19S9KKVF44</td>\n",
       "      <td>Anita</td>\n",
       "      <td>0</td>\n",
       "      <td>1</td>\n",
       "      <td>5</td>\n",
       "      <td>1326672000</td>\n",
       "      <td>Best coffee you can buy</td>\n",
       "      <td>My son-inlaw loves this coffee, but can't buy ...</td>\n",
       "      <td>1</td>\n",
       "    </tr>\n",
       "  </tbody>\n",
       "</table>\n",
       "</div>"
      ],
      "text/plain": [
       "       Id   ProductId          UserId              ProfileName  HelpfulnessNumerator  \\\n",
       "0  360446  B004LI9YAE   ALDAF4VVLFRHP  Patricia L. Brouillette                     0   \n",
       "1  284030  B0051COPH6  A240FRPD4MEXND            Phyllis Staff                     0   \n",
       "2  466446  B000G6O2QG  A2BLJGGWN8GTXQ                     Sean                     0   \n",
       "3  484788  B004P7QDQO  A3MOKEX63Y3SEV                  Barbara                     1   \n",
       "4  299042  B003YV7ZRI  A3RG19S9KKVF44                    Anita                     0   \n",
       "\n",
       "   HelpfulnessDenominator  Ratings        Time                                            Summary  \\\n",
       "0                       0        5  1333152000                                      Worth getting   \n",
       "1                       0        5  1343606400  Caregivers Alert -- This Product is Good for E...   \n",
       "2                       0        5  1325721600                              Salty and vinegary!!!   \n",
       "3                       1        5  1315353600                                             YUMMY!   \n",
       "4                       1        5  1326672000                            Best coffee you can buy   \n",
       "\n",
       "                                                Text  Score  \n",
       "0  My cats really love these treats. They come ru...      1  \n",
       "1  Wow!  I wish I'd known about this baby food wh...      1  \n",
       "2  These are the strongest tasting salt and vineg...      1  \n",
       "3  The thing that caught my eye about this was th...      1  \n",
       "4  My son-inlaw loves this coffee, but can't buy ...      1  "
      ]
     },
     "execution_count": 2,
     "metadata": {},
     "output_type": "execute_result"
    }
   ],
   "source": [
    "# Load the new dataset\n",
    "# Load data\n",
    "df1 = pd.read_csv('file3.csv')\n",
    "# inspect the dataset\n",
    "df1.head()"
   ]
  },
  {
   "cell_type": "markdown",
   "id": "58fb67a7",
   "metadata": {},
   "source": [
    "# Explore the new dataset"
   ]
  },
  {
   "cell_type": "code",
   "execution_count": 3,
   "id": "aa4bf826",
   "metadata": {},
   "outputs": [
    {
     "name": "stdout",
     "output_type": "stream",
     "text": [
      "<class 'pandas.core.frame.DataFrame'>\n",
      "Int64Index: 164074 entries, 0 to 164073\n",
      "Data columns (total 11 columns):\n",
      " #   Column                  Non-Null Count   Dtype \n",
      "---  ------                  --------------   ----- \n",
      " 0   Id                      164074 non-null  int64 \n",
      " 1   ProductId               164074 non-null  object\n",
      " 2   UserId                  164074 non-null  object\n",
      " 3   ProfileName             164066 non-null  object\n",
      " 4   HelpfulnessNumerator    164074 non-null  int64 \n",
      " 5   HelpfulnessDenominator  164074 non-null  int64 \n",
      " 6   Ratings                 164074 non-null  int64 \n",
      " 7   Time                    164074 non-null  int64 \n",
      " 8   Summary                 164049 non-null  object\n",
      " 9   Text                    164074 non-null  object\n",
      " 10  Score                   164074 non-null  int64 \n",
      "dtypes: int64(6), object(5)\n",
      "memory usage: 15.0+ MB\n"
     ]
    }
   ],
   "source": [
    "# check the dataset for dtat type\n",
    "df1.info()"
   ]
  },
  {
   "cell_type": "code",
   "execution_count": 4,
   "id": "1564058f",
   "metadata": {},
   "outputs": [
    {
     "data": {
      "text/plain": [
       "1    82037\n",
       "0    82037\n",
       "Name: Score, dtype: int64"
      ]
     },
     "execution_count": 4,
     "metadata": {},
     "output_type": "execute_result"
    }
   ],
   "source": [
    "# 0 is negative \n",
    "# 1 is positive\n",
    "df1[\"Score\"].value_counts()"
   ]
  },
  {
   "cell_type": "code",
   "execution_count": 5,
   "id": "d59107c3",
   "metadata": {},
   "outputs": [],
   "source": [
    "# Prepare a subset of dataset\n",
    "def dataset_reviews(dataframe):\n",
    "  subset_dataset = dataframe.iloc[:,9:]\n",
    "  return subset_dataset"
   ]
  },
  {
   "cell_type": "code",
   "execution_count": 6,
   "id": "78d92acb",
   "metadata": {},
   "outputs": [
    {
     "data": {
      "text/plain": [
       "(164074, 2)"
      ]
     },
     "execution_count": 6,
     "metadata": {},
     "output_type": "execute_result"
    }
   ],
   "source": [
    "dataset = dataset_reviews(df1)\n",
    "dataset.shape"
   ]
  },
  {
   "cell_type": "code",
   "execution_count": 7,
   "id": "2c478a11",
   "metadata": {},
   "outputs": [
    {
     "data": {
      "text/html": [
       "<div>\n",
       "<style scoped>\n",
       "    .dataframe tbody tr th:only-of-type {\n",
       "        vertical-align: middle;\n",
       "    }\n",
       "\n",
       "    .dataframe tbody tr th {\n",
       "        vertical-align: top;\n",
       "    }\n",
       "\n",
       "    .dataframe thead th {\n",
       "        text-align: right;\n",
       "    }\n",
       "</style>\n",
       "<table border=\"1\" class=\"dataframe\">\n",
       "  <thead>\n",
       "    <tr style=\"text-align: right;\">\n",
       "      <th></th>\n",
       "      <th>Text</th>\n",
       "      <th>Score</th>\n",
       "    </tr>\n",
       "  </thead>\n",
       "  <tbody>\n",
       "    <tr>\n",
       "      <th>164069</th>\n",
       "      <td>We've purchased this water about 5 times and u...</td>\n",
       "      <td>0</td>\n",
       "    </tr>\n",
       "    <tr>\n",
       "      <th>164070</th>\n",
       "      <td>I made the mistake of purchasing this bag on A...</td>\n",
       "      <td>0</td>\n",
       "    </tr>\n",
       "    <tr>\n",
       "      <th>164071</th>\n",
       "      <td>I bought these for my pregnant wife.  They loo...</td>\n",
       "      <td>0</td>\n",
       "    </tr>\n",
       "    <tr>\n",
       "      <th>164072</th>\n",
       "      <td>I am not sure why these dried grapes(raisins) ...</td>\n",
       "      <td>0</td>\n",
       "    </tr>\n",
       "    <tr>\n",
       "      <th>164073</th>\n",
       "      <td>I suggest you be careful before ordering this ...</td>\n",
       "      <td>0</td>\n",
       "    </tr>\n",
       "  </tbody>\n",
       "</table>\n",
       "</div>"
      ],
      "text/plain": [
       "                                                     Text  Score\n",
       "164069  We've purchased this water about 5 times and u...      0\n",
       "164070  I made the mistake of purchasing this bag on A...      0\n",
       "164071  I bought these for my pregnant wife.  They loo...      0\n",
       "164072  I am not sure why these dried grapes(raisins) ...      0\n",
       "164073  I suggest you be careful before ordering this ...      0"
      ]
     },
     "execution_count": 7,
     "metadata": {},
     "output_type": "execute_result"
    }
   ],
   "source": [
    "# check the tail of the dataset\n",
    "dataset.tail()"
   ]
  },
  {
   "cell_type": "code",
   "execution_count": 8,
   "id": "d1474fff",
   "metadata": {},
   "outputs": [
    {
     "name": "stderr",
     "output_type": "stream",
     "text": [
      "[nltk_data] Downloading package stopwords to\n",
      "[nltk_data]     C:\\Users\\adeke\\AppData\\Roaming\\nltk_data...\n",
      "[nltk_data]   Package stopwords is already up-to-date!\n"
     ]
    }
   ],
   "source": [
    "nltk.download('stopwords')\n",
    "stop = nltk.corpus.stopwords.words('english')\n",
    "from nltk.stem import WordNetLemmatizer\n",
    "from nltk.stem import PorterStemmer\n",
    "lemmatizer = WordNetLemmatizer()\n",
    "stemmer = PorterStemmer()"
   ]
  },
  {
   "cell_type": "code",
   "execution_count": 9,
   "id": "4a6581b5",
   "metadata": {},
   "outputs": [],
   "source": [
    "new_stopwords =[\"all\",\"due\",\"to\",\"on\",\"daily\",\"get\",\"one\",\"also\",\"even\",\"come\",\"work\",\"really\",\"since\",\"try\",\n",
    "               \"think\",\"www\",\"still\",\"well\",\"know\",\"get\",\"say\",\"com\",\"stuff\",\"like\",\"maybe\",\"tried\",\"though\",\"used\"]\n",
    "stop.extend(new_stopwords)"
   ]
  },
  {
   "cell_type": "code",
   "execution_count": 10,
   "id": "a867ea99",
   "metadata": {},
   "outputs": [],
   "source": [
    "import spacy\n",
    "nlp = spacy.load('en_core_web_sm')"
   ]
  },
  {
   "cell_type": "code",
   "execution_count": 11,
   "id": "fe9110dd",
   "metadata": {},
   "outputs": [],
   "source": [
    "# Data cleaning function\n",
    "def preprocess(text): \n",
    "    text=text.lower()\n",
    "    text=re.sub('[^0-9a-zA-Z]+',' ',text)# specify a regular expression pattern in the first argument, a new string in the second, and a string to be processed in the third.\n",
    "    text =re.sub(r'#','',text)\n",
    "    text = re.sub(r'<>\\/','',text)\n",
    "    text = re.sub(r'br br','',text)\n",
    "    text = re.sub(r'br','',text)\n",
    "    text = re.sub(r'href','',text)\n",
    "    text = re.sub(r'href http','',text)\n",
    "    text = re.sub(r'http','',text)\n",
    "    text = re.sub(r'httpwww','',text)\n",
    "    text = text.split()\n",
    "    text=[w for w in text if (w not in stop)]\n",
    "    text=' '.join(text)\n",
    "    text = nlp(text)\n",
    "    text =[token.lemma_ for token in text]\n",
    "    #text = list(map(lambda token: token.lemma_, text))\n",
    "    text =' '.join(text)\n",
    "    return text"
   ]
  },
  {
   "cell_type": "code",
   "execution_count": 12,
   "id": "c97ff65c",
   "metadata": {},
   "outputs": [],
   "source": [
    "#clean the review data\n",
    "dataset['Text'] = dataset['Text'].apply(preprocess)"
   ]
  },
  {
   "cell_type": "code",
   "execution_count": 13,
   "id": "9e223b4a",
   "metadata": {},
   "outputs": [
    {
     "data": {
      "text/html": [
       "<div>\n",
       "<style scoped>\n",
       "    .dataframe tbody tr th:only-of-type {\n",
       "        vertical-align: middle;\n",
       "    }\n",
       "\n",
       "    .dataframe tbody tr th {\n",
       "        vertical-align: top;\n",
       "    }\n",
       "\n",
       "    .dataframe thead th {\n",
       "        text-align: right;\n",
       "    }\n",
       "</style>\n",
       "<table border=\"1\" class=\"dataframe\">\n",
       "  <thead>\n",
       "    <tr style=\"text-align: right;\">\n",
       "      <th></th>\n",
       "      <th>Text</th>\n",
       "      <th>Score</th>\n",
       "    </tr>\n",
       "  </thead>\n",
       "  <tbody>\n",
       "    <tr>\n",
       "      <th>164069</th>\n",
       "      <td>purchase water 5 time delivery 5 receive new z...</td>\n",
       "      <td>0</td>\n",
       "    </tr>\n",
       "    <tr>\n",
       "      <th>164070</th>\n",
       "      <td>make mistake purchase bag amazon subscribe sav...</td>\n",
       "      <td>0</td>\n",
       "    </tr>\n",
       "    <tr>\n",
       "      <th>164071</th>\n",
       "      <td>buy pregnant wife look pretty fit nicely purse...</td>\n",
       "      <td>0</td>\n",
       "    </tr>\n",
       "    <tr>\n",
       "      <th>164072</th>\n",
       "      <td>sure dry grape raisin label currant one grow e...</td>\n",
       "      <td>0</td>\n",
       "    </tr>\n",
       "    <tr>\n",
       "      <th>164073</th>\n",
       "      <td>suggest careful ordering item see cookie worth...</td>\n",
       "      <td>0</td>\n",
       "    </tr>\n",
       "  </tbody>\n",
       "</table>\n",
       "</div>"
      ],
      "text/plain": [
       "                                                     Text  Score\n",
       "164069  purchase water 5 time delivery 5 receive new z...      0\n",
       "164070  make mistake purchase bag amazon subscribe sav...      0\n",
       "164071  buy pregnant wife look pretty fit nicely purse...      0\n",
       "164072  sure dry grape raisin label currant one grow e...      0\n",
       "164073  suggest careful ordering item see cookie worth...      0"
      ]
     },
     "execution_count": 13,
     "metadata": {},
     "output_type": "execute_result"
    }
   ],
   "source": [
    "dataset.tail()"
   ]
  },
  {
   "cell_type": "markdown",
   "id": "af9868c9",
   "metadata": {},
   "source": [
    "# Feature Extraction Using TF-IDF"
   ]
  },
  {
   "cell_type": "code",
   "execution_count": 14,
   "id": "a046bb45",
   "metadata": {},
   "outputs": [],
   "source": [
    "#Saving best model \n",
    "import joblib\n",
    "#Save the model to disk\n",
    "#filename = 'tfid500_vector_nlp.sav'\n",
    "#joblib.dump(word_vector, filename)"
   ]
  },
  {
   "cell_type": "code",
   "execution_count": 15,
   "id": "a6a4f9c5",
   "metadata": {},
   "outputs": [],
   "source": [
    "#Load the save word vectors and use to tranform data\n",
    "vect= joblib.load(r\"tfid500_vector_nlp.sav\")"
   ]
  },
  {
   "cell_type": "code",
   "execution_count": 16,
   "id": "ce0fb6d9",
   "metadata": {},
   "outputs": [
    {
     "data": {
      "text/plain": [
       "<164074x500 sparse matrix of type '<class 'numpy.float64'>'\n",
       "\twith 3010827 stored elements in Compressed Sparse Row format>"
      ]
     },
     "execution_count": 16,
     "metadata": {},
     "output_type": "execute_result"
    }
   ],
   "source": [
    "# Create sparse matrix from the vectorizer\n",
    "tokenized_features = vect.transform(dataset['Text'])\n",
    "tokenized_features"
   ]
  },
  {
   "cell_type": "code",
   "execution_count": 17,
   "id": "4fd78fdc",
   "metadata": {},
   "outputs": [
    {
     "data": {
      "text/html": [
       "<div>\n",
       "<style scoped>\n",
       "    .dataframe tbody tr th:only-of-type {\n",
       "        vertical-align: middle;\n",
       "    }\n",
       "\n",
       "    .dataframe tbody tr th {\n",
       "        vertical-align: top;\n",
       "    }\n",
       "\n",
       "    .dataframe thead th {\n",
       "        text-align: right;\n",
       "    }\n",
       "</style>\n",
       "<table border=\"1\" class=\"dataframe\">\n",
       "  <thead>\n",
       "    <tr style=\"text-align: right;\">\n",
       "      <th></th>\n",
       "      <th>able</th>\n",
       "      <th>absolutely</th>\n",
       "      <th>actually</th>\n",
       "      <th>add</th>\n",
       "      <th>aftertaste</th>\n",
       "      <th>ago</th>\n",
       "      <th>almond</th>\n",
       "      <th>almost</th>\n",
       "      <th>already</th>\n",
       "      <th>alternative</th>\n",
       "      <th>...</th>\n",
       "      <th>wonderful</th>\n",
       "      <th>worth</th>\n",
       "      <th>would</th>\n",
       "      <th>would recommend</th>\n",
       "      <th>write</th>\n",
       "      <th>wrong</th>\n",
       "      <th>year</th>\n",
       "      <th>year old</th>\n",
       "      <th>yes</th>\n",
       "      <th>yet</th>\n",
       "    </tr>\n",
       "  </thead>\n",
       "  <tbody>\n",
       "    <tr>\n",
       "      <th>0</th>\n",
       "      <td>0.0</td>\n",
       "      <td>0.0</td>\n",
       "      <td>0.000</td>\n",
       "      <td>0.0</td>\n",
       "      <td>0.0</td>\n",
       "      <td>0.0</td>\n",
       "      <td>0.0</td>\n",
       "      <td>0.0</td>\n",
       "      <td>0.0</td>\n",
       "      <td>0.0</td>\n",
       "      <td>...</td>\n",
       "      <td>0.0</td>\n",
       "      <td>0.000</td>\n",
       "      <td>0.000</td>\n",
       "      <td>0.0</td>\n",
       "      <td>0.0</td>\n",
       "      <td>0.0</td>\n",
       "      <td>0.0</td>\n",
       "      <td>0.0</td>\n",
       "      <td>0.0</td>\n",
       "      <td>0.0</td>\n",
       "    </tr>\n",
       "    <tr>\n",
       "      <th>1</th>\n",
       "      <td>0.0</td>\n",
       "      <td>0.0</td>\n",
       "      <td>0.000</td>\n",
       "      <td>0.0</td>\n",
       "      <td>0.0</td>\n",
       "      <td>0.0</td>\n",
       "      <td>0.0</td>\n",
       "      <td>0.0</td>\n",
       "      <td>0.0</td>\n",
       "      <td>0.0</td>\n",
       "      <td>...</td>\n",
       "      <td>0.0</td>\n",
       "      <td>0.000</td>\n",
       "      <td>0.000</td>\n",
       "      <td>0.0</td>\n",
       "      <td>0.0</td>\n",
       "      <td>0.0</td>\n",
       "      <td>0.0</td>\n",
       "      <td>0.0</td>\n",
       "      <td>0.0</td>\n",
       "      <td>0.0</td>\n",
       "    </tr>\n",
       "    <tr>\n",
       "      <th>2</th>\n",
       "      <td>0.0</td>\n",
       "      <td>0.0</td>\n",
       "      <td>0.000</td>\n",
       "      <td>0.0</td>\n",
       "      <td>0.0</td>\n",
       "      <td>0.0</td>\n",
       "      <td>0.0</td>\n",
       "      <td>0.0</td>\n",
       "      <td>0.0</td>\n",
       "      <td>0.0</td>\n",
       "      <td>...</td>\n",
       "      <td>0.0</td>\n",
       "      <td>0.000</td>\n",
       "      <td>0.000</td>\n",
       "      <td>0.0</td>\n",
       "      <td>0.0</td>\n",
       "      <td>0.0</td>\n",
       "      <td>0.0</td>\n",
       "      <td>0.0</td>\n",
       "      <td>0.0</td>\n",
       "      <td>0.0</td>\n",
       "    </tr>\n",
       "    <tr>\n",
       "      <th>3</th>\n",
       "      <td>0.0</td>\n",
       "      <td>0.0</td>\n",
       "      <td>0.151</td>\n",
       "      <td>0.0</td>\n",
       "      <td>0.0</td>\n",
       "      <td>0.0</td>\n",
       "      <td>0.0</td>\n",
       "      <td>0.0</td>\n",
       "      <td>0.0</td>\n",
       "      <td>0.0</td>\n",
       "      <td>...</td>\n",
       "      <td>0.0</td>\n",
       "      <td>0.000</td>\n",
       "      <td>0.000</td>\n",
       "      <td>0.0</td>\n",
       "      <td>0.0</td>\n",
       "      <td>0.0</td>\n",
       "      <td>0.0</td>\n",
       "      <td>0.0</td>\n",
       "      <td>0.0</td>\n",
       "      <td>0.0</td>\n",
       "    </tr>\n",
       "    <tr>\n",
       "      <th>4</th>\n",
       "      <td>0.0</td>\n",
       "      <td>0.0</td>\n",
       "      <td>0.000</td>\n",
       "      <td>0.0</td>\n",
       "      <td>0.0</td>\n",
       "      <td>0.0</td>\n",
       "      <td>0.0</td>\n",
       "      <td>0.0</td>\n",
       "      <td>0.0</td>\n",
       "      <td>0.0</td>\n",
       "      <td>...</td>\n",
       "      <td>0.0</td>\n",
       "      <td>0.000</td>\n",
       "      <td>0.000</td>\n",
       "      <td>0.0</td>\n",
       "      <td>0.0</td>\n",
       "      <td>0.0</td>\n",
       "      <td>0.0</td>\n",
       "      <td>0.0</td>\n",
       "      <td>0.0</td>\n",
       "      <td>0.0</td>\n",
       "    </tr>\n",
       "    <tr>\n",
       "      <th>...</th>\n",
       "      <td>...</td>\n",
       "      <td>...</td>\n",
       "      <td>...</td>\n",
       "      <td>...</td>\n",
       "      <td>...</td>\n",
       "      <td>...</td>\n",
       "      <td>...</td>\n",
       "      <td>...</td>\n",
       "      <td>...</td>\n",
       "      <td>...</td>\n",
       "      <td>...</td>\n",
       "      <td>...</td>\n",
       "      <td>...</td>\n",
       "      <td>...</td>\n",
       "      <td>...</td>\n",
       "      <td>...</td>\n",
       "      <td>...</td>\n",
       "      <td>...</td>\n",
       "      <td>...</td>\n",
       "      <td>...</td>\n",
       "      <td>...</td>\n",
       "    </tr>\n",
       "    <tr>\n",
       "      <th>164069</th>\n",
       "      <td>0.0</td>\n",
       "      <td>0.0</td>\n",
       "      <td>0.000</td>\n",
       "      <td>0.0</td>\n",
       "      <td>0.0</td>\n",
       "      <td>0.0</td>\n",
       "      <td>0.0</td>\n",
       "      <td>0.0</td>\n",
       "      <td>0.0</td>\n",
       "      <td>0.0</td>\n",
       "      <td>...</td>\n",
       "      <td>0.0</td>\n",
       "      <td>0.000</td>\n",
       "      <td>0.000</td>\n",
       "      <td>0.0</td>\n",
       "      <td>0.0</td>\n",
       "      <td>0.0</td>\n",
       "      <td>0.0</td>\n",
       "      <td>0.0</td>\n",
       "      <td>0.0</td>\n",
       "      <td>0.0</td>\n",
       "    </tr>\n",
       "    <tr>\n",
       "      <th>164070</th>\n",
       "      <td>0.0</td>\n",
       "      <td>0.0</td>\n",
       "      <td>0.000</td>\n",
       "      <td>0.0</td>\n",
       "      <td>0.0</td>\n",
       "      <td>0.0</td>\n",
       "      <td>0.0</td>\n",
       "      <td>0.0</td>\n",
       "      <td>0.0</td>\n",
       "      <td>0.0</td>\n",
       "      <td>...</td>\n",
       "      <td>0.0</td>\n",
       "      <td>0.000</td>\n",
       "      <td>0.077</td>\n",
       "      <td>0.0</td>\n",
       "      <td>0.0</td>\n",
       "      <td>0.0</td>\n",
       "      <td>0.0</td>\n",
       "      <td>0.0</td>\n",
       "      <td>0.0</td>\n",
       "      <td>0.0</td>\n",
       "    </tr>\n",
       "    <tr>\n",
       "      <th>164071</th>\n",
       "      <td>0.0</td>\n",
       "      <td>0.0</td>\n",
       "      <td>0.000</td>\n",
       "      <td>0.0</td>\n",
       "      <td>0.0</td>\n",
       "      <td>0.0</td>\n",
       "      <td>0.0</td>\n",
       "      <td>0.0</td>\n",
       "      <td>0.0</td>\n",
       "      <td>0.0</td>\n",
       "      <td>...</td>\n",
       "      <td>0.0</td>\n",
       "      <td>0.000</td>\n",
       "      <td>0.000</td>\n",
       "      <td>0.0</td>\n",
       "      <td>0.0</td>\n",
       "      <td>0.0</td>\n",
       "      <td>0.0</td>\n",
       "      <td>0.0</td>\n",
       "      <td>0.0</td>\n",
       "      <td>0.0</td>\n",
       "    </tr>\n",
       "    <tr>\n",
       "      <th>164072</th>\n",
       "      <td>0.0</td>\n",
       "      <td>0.0</td>\n",
       "      <td>0.000</td>\n",
       "      <td>0.0</td>\n",
       "      <td>0.0</td>\n",
       "      <td>0.0</td>\n",
       "      <td>0.0</td>\n",
       "      <td>0.0</td>\n",
       "      <td>0.0</td>\n",
       "      <td>0.0</td>\n",
       "      <td>...</td>\n",
       "      <td>0.0</td>\n",
       "      <td>0.000</td>\n",
       "      <td>0.000</td>\n",
       "      <td>0.0</td>\n",
       "      <td>0.0</td>\n",
       "      <td>0.0</td>\n",
       "      <td>0.0</td>\n",
       "      <td>0.0</td>\n",
       "      <td>0.0</td>\n",
       "      <td>0.0</td>\n",
       "    </tr>\n",
       "    <tr>\n",
       "      <th>164073</th>\n",
       "      <td>0.0</td>\n",
       "      <td>0.0</td>\n",
       "      <td>0.000</td>\n",
       "      <td>0.0</td>\n",
       "      <td>0.0</td>\n",
       "      <td>0.0</td>\n",
       "      <td>0.0</td>\n",
       "      <td>0.0</td>\n",
       "      <td>0.0</td>\n",
       "      <td>0.0</td>\n",
       "      <td>...</td>\n",
       "      <td>0.0</td>\n",
       "      <td>0.084</td>\n",
       "      <td>0.000</td>\n",
       "      <td>0.0</td>\n",
       "      <td>0.0</td>\n",
       "      <td>0.0</td>\n",
       "      <td>0.0</td>\n",
       "      <td>0.0</td>\n",
       "      <td>0.0</td>\n",
       "      <td>0.0</td>\n",
       "    </tr>\n",
       "  </tbody>\n",
       "</table>\n",
       "<p>164074 rows × 500 columns</p>\n",
       "</div>"
      ],
      "text/plain": [
       "        able  absolutely  actually  add  aftertaste  ago  almond  almost  already  alternative  \\\n",
       "0        0.0         0.0     0.000  0.0         0.0  0.0     0.0     0.0      0.0          0.0   \n",
       "1        0.0         0.0     0.000  0.0         0.0  0.0     0.0     0.0      0.0          0.0   \n",
       "2        0.0         0.0     0.000  0.0         0.0  0.0     0.0     0.0      0.0          0.0   \n",
       "3        0.0         0.0     0.151  0.0         0.0  0.0     0.0     0.0      0.0          0.0   \n",
       "4        0.0         0.0     0.000  0.0         0.0  0.0     0.0     0.0      0.0          0.0   \n",
       "...      ...         ...       ...  ...         ...  ...     ...     ...      ...          ...   \n",
       "164069   0.0         0.0     0.000  0.0         0.0  0.0     0.0     0.0      0.0          0.0   \n",
       "164070   0.0         0.0     0.000  0.0         0.0  0.0     0.0     0.0      0.0          0.0   \n",
       "164071   0.0         0.0     0.000  0.0         0.0  0.0     0.0     0.0      0.0          0.0   \n",
       "164072   0.0         0.0     0.000  0.0         0.0  0.0     0.0     0.0      0.0          0.0   \n",
       "164073   0.0         0.0     0.000  0.0         0.0  0.0     0.0     0.0      0.0          0.0   \n",
       "\n",
       "        ...  wonderful  worth  would  would recommend  write  wrong  year  year old  yes  yet  \n",
       "0       ...        0.0  0.000  0.000              0.0    0.0    0.0   0.0       0.0  0.0  0.0  \n",
       "1       ...        0.0  0.000  0.000              0.0    0.0    0.0   0.0       0.0  0.0  0.0  \n",
       "2       ...        0.0  0.000  0.000              0.0    0.0    0.0   0.0       0.0  0.0  0.0  \n",
       "3       ...        0.0  0.000  0.000              0.0    0.0    0.0   0.0       0.0  0.0  0.0  \n",
       "4       ...        0.0  0.000  0.000              0.0    0.0    0.0   0.0       0.0  0.0  0.0  \n",
       "...     ...        ...    ...    ...              ...    ...    ...   ...       ...  ...  ...  \n",
       "164069  ...        0.0  0.000  0.000              0.0    0.0    0.0   0.0       0.0  0.0  0.0  \n",
       "164070  ...        0.0  0.000  0.077              0.0    0.0    0.0   0.0       0.0  0.0  0.0  \n",
       "164071  ...        0.0  0.000  0.000              0.0    0.0    0.0   0.0       0.0  0.0  0.0  \n",
       "164072  ...        0.0  0.000  0.000              0.0    0.0    0.0   0.0       0.0  0.0  0.0  \n",
       "164073  ...        0.0  0.084  0.000              0.0    0.0    0.0   0.0       0.0  0.0  0.0  \n",
       "\n",
       "[164074 rows x 500 columns]"
      ]
     },
     "execution_count": 17,
     "metadata": {},
     "output_type": "execute_result"
    }
   ],
   "source": [
    "#Create a Dataframe of the new features\n",
    "features = pd.DataFrame(data = tokenized_features.toarray(),columns =vect.get_feature_names_out())\n",
    "features"
   ]
  },
  {
   "cell_type": "code",
   "execution_count": 18,
   "id": "7f03e20e",
   "metadata": {},
   "outputs": [],
   "source": [
    "# Concatenate the new feature dataframe with the initial one\n",
    "#  and define X and y \n",
    "#X = pd.concat([features, new_dataset.loc[:,'char_count':]], axis = 1)\n",
    "X = features.to_numpy()\n",
    "y = dataset['Score']"
   ]
  },
  {
   "cell_type": "code",
   "execution_count": 19,
   "id": "b84f9aa9",
   "metadata": {},
   "outputs": [
    {
     "data": {
      "text/plain": [
       "(164074, 500)"
      ]
     },
     "execution_count": 19,
     "metadata": {},
     "output_type": "execute_result"
    }
   ],
   "source": [
    "X.shape"
   ]
  },
  {
   "cell_type": "markdown",
   "id": "685352ee",
   "metadata": {},
   "source": [
    "# Split the data into Train set and Test set"
   ]
  },
  {
   "cell_type": "code",
   "execution_count": null,
   "id": "11f941d6",
   "metadata": {},
   "outputs": [],
   "source": [
    "#Train/test split\n",
    "X_train,X_test,y_train,y_test = train_test_split(X, y, test_size = 0.2, random_state = 42)\n",
    "X_train.shape"
   ]
  },
  {
   "cell_type": "code",
   "execution_count": 36,
   "id": "74c15618",
   "metadata": {},
   "outputs": [],
   "source": [
    "#X_train = X_train.reshape(-1,500,1)\n",
    "#X_train.shape"
   ]
  },
  {
   "cell_type": "code",
   "execution_count": 37,
   "id": "c8f66e8c",
   "metadata": {},
   "outputs": [
    {
     "data": {
      "text/plain": [
       "array([[0., 0., 0., ..., 0., 0., 0.],\n",
       "       [0., 0., 0., ..., 0., 0., 0.],\n",
       "       [0., 0., 0., ..., 0., 0., 0.],\n",
       "       ...,\n",
       "       [0., 0., 0., ..., 0., 0., 0.],\n",
       "       [0., 0., 0., ..., 0., 0., 0.],\n",
       "       [0., 0., 0., ..., 0., 0., 0.]])"
      ]
     },
     "execution_count": 37,
     "metadata": {},
     "output_type": "execute_result"
    }
   ],
   "source": [
    "#X_test = X_test.reshape(-1,500,1)\n",
    "X_test"
   ]
  },
  {
   "cell_type": "markdown",
   "id": "81c84d6b",
   "metadata": {},
   "source": [
    "# Build A Neural Network for Training"
   ]
  },
  {
   "cell_type": "code",
   "execution_count": 38,
   "id": "d876bdb0",
   "metadata": {},
   "outputs": [],
   "source": [
    "from keras.layers import Dense, Dropout, Conv1D, MaxPool1D, GlobalMaxPool1D, Embedding, Activation,SimpleRNN,LSTM\n",
    "from keras.models import Sequential, load_model\n",
    "import tensorflow as tf"
   ]
  },
  {
   "cell_type": "code",
   "execution_count": 39,
   "id": "d39acb7a",
   "metadata": {},
   "outputs": [
    {
     "name": "stdout",
     "output_type": "stream",
     "text": [
      "Model: \"sequential_1\"\n",
      "_________________________________________________________________\n",
      " Layer (type)                Output Shape              Param #   \n",
      "=================================================================\n",
      " dense_5 (Dense)             (None, 256)               128256    \n",
      "                                                                 \n",
      " dropout_3 (Dropout)         (None, 256)               0         \n",
      "                                                                 \n",
      " dense_6 (Dense)             (None, 128)               32896     \n",
      "                                                                 \n",
      " dropout_4 (Dropout)         (None, 128)               0         \n",
      "                                                                 \n",
      " dense_7 (Dense)             (None, 64)                8256      \n",
      "                                                                 \n",
      " dropout_5 (Dropout)         (None, 64)                0         \n",
      "                                                                 \n",
      " dense_8 (Dense)             (None, 8)                 520       \n",
      "                                                                 \n",
      " dense_9 (Dense)             (None, 1)                 9         \n",
      "                                                                 \n",
      "=================================================================\n",
      "Total params: 169,937\n",
      "Trainable params: 169,937\n",
      "Non-trainable params: 0\n",
      "_________________________________________________________________\n",
      "None\n"
     ]
    }
   ],
   "source": [
    "model = Sequential()\n",
    "model.add(Dense(256,  input_shape =(500,)))\n",
    "model.add(Dropout(0.2))\n",
    "model.add(Dense(128,activation='relu'))\n",
    "model.add(Dropout(0.2))\n",
    "model.add(Dense(64,activation ='relu'))\n",
    "model.add(Dropout(0.2))\n",
    "model.add(Dense(8, activation ='relu'))\n",
    "model.add(Dense(1, activation='sigmoid'))# See Mean Square Error for train and test data\n",
    "model.compile(loss='binary_crossentropy', optimizer='adam', metrics=['accuracy'])\n",
    "print(model.summary())"
   ]
  },
  {
   "cell_type": "code",
   "execution_count": 40,
   "id": "2634994f",
   "metadata": {},
   "outputs": [
    {
     "name": "stdout",
     "output_type": "stream",
     "text": [
      "Epoch 1/100\n",
      "4102/4102 [==============================] - 22s 5ms/step - loss: 0.4178 - accuracy: 0.8088 - val_loss: 0.4041 - val_accuracy: 0.8179\n",
      "Epoch 2/100\n",
      "4102/4102 [==============================] - 19s 5ms/step - loss: 0.3927 - accuracy: 0.8228 - val_loss: 0.3872 - val_accuracy: 0.8280\n",
      "Epoch 3/100\n",
      "4102/4102 [==============================] - 19s 5ms/step - loss: 0.3752 - accuracy: 0.8350 - val_loss: 0.3819 - val_accuracy: 0.8305\n",
      "Epoch 4/100\n",
      "4102/4102 [==============================] - 23s 6ms/step - loss: 0.3607 - accuracy: 0.8428 - val_loss: 0.3716 - val_accuracy: 0.8380\n",
      "Epoch 5/100\n",
      "4102/4102 [==============================] - 22s 5ms/step - loss: 0.3491 - accuracy: 0.8489 - val_loss: 0.3703 - val_accuracy: 0.8380\n",
      "Epoch 6/100\n",
      "4102/4102 [==============================] - 24s 6ms/step - loss: 0.3398 - accuracy: 0.8543 - val_loss: 0.3698 - val_accuracy: 0.8403\n",
      "Epoch 7/100\n",
      "4102/4102 [==============================] - 24s 6ms/step - loss: 0.3306 - accuracy: 0.8589 - val_loss: 0.3667 - val_accuracy: 0.8426\n",
      "Epoch 8/100\n",
      "4102/4102 [==============================] - 22s 5ms/step - loss: 0.3225 - accuracy: 0.8642 - val_loss: 0.3656 - val_accuracy: 0.8457\n",
      "Epoch 9/100\n",
      "4102/4102 [==============================] - 21s 5ms/step - loss: 0.3156 - accuracy: 0.8682 - val_loss: 0.3650 - val_accuracy: 0.8460\n",
      "Epoch 10/100\n",
      "4102/4102 [==============================] - 21s 5ms/step - loss: 0.3101 - accuracy: 0.8704 - val_loss: 0.3634 - val_accuracy: 0.8463\n",
      "Epoch 11/100\n",
      "4102/4102 [==============================] - 22s 5ms/step - loss: 0.3037 - accuracy: 0.8728 - val_loss: 0.3647 - val_accuracy: 0.8445\n",
      "Epoch 12/100\n",
      "4102/4102 [==============================] - 21s 5ms/step - loss: 0.2983 - accuracy: 0.8762 - val_loss: 0.3599 - val_accuracy: 0.8475\n",
      "Epoch 13/100\n",
      "4102/4102 [==============================] - 21s 5ms/step - loss: 0.2950 - accuracy: 0.8781 - val_loss: 0.3613 - val_accuracy: 0.8507\n",
      "Epoch 14/100\n",
      "4102/4102 [==============================] - 21s 5ms/step - loss: 0.2907 - accuracy: 0.8797 - val_loss: 0.3613 - val_accuracy: 0.8509\n",
      "Epoch 15/100\n",
      "4102/4102 [==============================] - 22s 5ms/step - loss: 0.2862 - accuracy: 0.8826 - val_loss: 0.3640 - val_accuracy: 0.8504\n",
      "Epoch 16/100\n",
      "4102/4102 [==============================] - 22s 5ms/step - loss: 0.2820 - accuracy: 0.8846 - val_loss: 0.3563 - val_accuracy: 0.8510\n",
      "Epoch 17/100\n",
      "4102/4102 [==============================] - 21s 5ms/step - loss: 0.2781 - accuracy: 0.8851 - val_loss: 0.3599 - val_accuracy: 0.8493\n",
      "Epoch 18/100\n",
      "4102/4102 [==============================] - 26s 6ms/step - loss: 0.2745 - accuracy: 0.8879 - val_loss: 0.3636 - val_accuracy: 0.8510\n",
      "Epoch 19/100\n",
      "4102/4102 [==============================] - 23s 6ms/step - loss: 0.2725 - accuracy: 0.8886 - val_loss: 0.3614 - val_accuracy: 0.8498\n",
      "Epoch 20/100\n",
      "4102/4102 [==============================] - 24s 6ms/step - loss: 0.2694 - accuracy: 0.8891 - val_loss: 0.3641 - val_accuracy: 0.8496\n",
      "Epoch 21/100\n",
      "4102/4102 [==============================] - 24s 6ms/step - loss: 0.2671 - accuracy: 0.8912 - val_loss: 0.3616 - val_accuracy: 0.8525\n",
      "Epoch 22/100\n",
      "4102/4102 [==============================] - 25s 6ms/step - loss: 0.2641 - accuracy: 0.8929 - val_loss: 0.3695 - val_accuracy: 0.8521\n",
      "Epoch 23/100\n",
      "4102/4102 [==============================] - 24s 6ms/step - loss: 0.2621 - accuracy: 0.8926 - val_loss: 0.3637 - val_accuracy: 0.8520\n",
      "Epoch 24/100\n",
      "4102/4102 [==============================] - 24s 6ms/step - loss: 0.2598 - accuracy: 0.8949 - val_loss: 0.3607 - val_accuracy: 0.8524\n",
      "Epoch 25/100\n",
      "4102/4102 [==============================] - 22s 5ms/step - loss: 0.2574 - accuracy: 0.8955 - val_loss: 0.3658 - val_accuracy: 0.8538\n",
      "Epoch 26/100\n",
      "4102/4102 [==============================] - 21s 5ms/step - loss: 0.2546 - accuracy: 0.8964 - val_loss: 0.3613 - val_accuracy: 0.8541\n",
      "Epoch 27/100\n",
      "4102/4102 [==============================] - 24s 6ms/step - loss: 0.2515 - accuracy: 0.8974 - val_loss: 0.3584 - val_accuracy: 0.8560\n",
      "Epoch 28/100\n",
      "4102/4102 [==============================] - 24s 6ms/step - loss: 0.2512 - accuracy: 0.8988 - val_loss: 0.3674 - val_accuracy: 0.8529\n",
      "Epoch 29/100\n",
      "4102/4102 [==============================] - 24s 6ms/step - loss: 0.2495 - accuracy: 0.8985 - val_loss: 0.3737 - val_accuracy: 0.8549\n",
      "Epoch 30/100\n",
      "4102/4102 [==============================] - 22s 5ms/step - loss: 0.2483 - accuracy: 0.8995 - val_loss: 0.3608 - val_accuracy: 0.8549\n",
      "Epoch 31/100\n",
      "4102/4102 [==============================] - 21s 5ms/step - loss: 0.2437 - accuracy: 0.9019 - val_loss: 0.3706 - val_accuracy: 0.8543\n",
      "Epoch 32/100\n",
      "4102/4102 [==============================] - 21s 5ms/step - loss: 0.2417 - accuracy: 0.9022 - val_loss: 0.3692 - val_accuracy: 0.8547\n",
      "Epoch 33/100\n",
      "4102/4102 [==============================] - 21s 5ms/step - loss: 0.2403 - accuracy: 0.9028 - val_loss: 0.3805 - val_accuracy: 0.8551\n",
      "Epoch 34/100\n",
      "4102/4102 [==============================] - 21s 5ms/step - loss: 0.2410 - accuracy: 0.9030 - val_loss: 0.3633 - val_accuracy: 0.8562\n",
      "Epoch 35/100\n",
      "4102/4102 [==============================] - 20s 5ms/step - loss: 0.2386 - accuracy: 0.9042 - val_loss: 0.3659 - val_accuracy: 0.8559\n",
      "Epoch 36/100\n",
      "4102/4102 [==============================] - 20s 5ms/step - loss: 0.2378 - accuracy: 0.9041 - val_loss: 0.3802 - val_accuracy: 0.8556\n",
      "Epoch 37/100\n",
      "4102/4102 [==============================] - 20s 5ms/step - loss: 0.2356 - accuracy: 0.9049 - val_loss: 0.3699 - val_accuracy: 0.8556\n",
      "Epoch 38/100\n",
      "4102/4102 [==============================] - 24s 6ms/step - loss: 0.2354 - accuracy: 0.9052 - val_loss: 0.3750 - val_accuracy: 0.8542\n",
      "Epoch 39/100\n",
      "4102/4102 [==============================] - 22s 5ms/step - loss: 0.2328 - accuracy: 0.9066 - val_loss: 0.3719 - val_accuracy: 0.8545\n",
      "Epoch 40/100\n",
      "4102/4102 [==============================] - 23s 6ms/step - loss: 0.2301 - accuracy: 0.9079 - val_loss: 0.3695 - val_accuracy: 0.8567\n",
      "Epoch 41/100\n",
      "4102/4102 [==============================] - 26s 6ms/step - loss: 0.2300 - accuracy: 0.9071 - val_loss: 0.3687 - val_accuracy: 0.8558\n",
      "Epoch 42/100\n",
      "4102/4102 [==============================] - 23s 6ms/step - loss: 0.2298 - accuracy: 0.9076 - val_loss: 0.3722 - val_accuracy: 0.8560\n",
      "Epoch 43/100\n",
      "4102/4102 [==============================] - 23s 6ms/step - loss: 0.2294 - accuracy: 0.9074 - val_loss: 0.3783 - val_accuracy: 0.8552\n",
      "Epoch 44/100\n",
      "4102/4102 [==============================] - 21s 5ms/step - loss: 0.2281 - accuracy: 0.9076 - val_loss: 0.3786 - val_accuracy: 0.8566\n",
      "Epoch 45/100\n",
      "4102/4102 [==============================] - 18s 4ms/step - loss: 0.2265 - accuracy: 0.9083 - val_loss: 0.3777 - val_accuracy: 0.8554\n",
      "Epoch 46/100\n",
      "4102/4102 [==============================] - 19s 5ms/step - loss: 0.2267 - accuracy: 0.9091 - val_loss: 0.3742 - val_accuracy: 0.8564\n",
      "Epoch 47/100\n",
      "4102/4102 [==============================] - 21s 5ms/step - loss: 0.2242 - accuracy: 0.9106 - val_loss: 0.3754 - val_accuracy: 0.8546\n",
      "Epoch 48/100\n",
      "4102/4102 [==============================] - 22s 5ms/step - loss: 0.2235 - accuracy: 0.9108 - val_loss: 0.3803 - val_accuracy: 0.8546\n",
      "Epoch 49/100\n",
      "4102/4102 [==============================] - 19s 5ms/step - loss: 0.2220 - accuracy: 0.9112 - val_loss: 0.3885 - val_accuracy: 0.8541\n",
      "Epoch 50/100\n",
      "4102/4102 [==============================] - 19s 5ms/step - loss: 0.2215 - accuracy: 0.9115 - val_loss: 0.3737 - val_accuracy: 0.8549\n",
      "Epoch 51/100\n",
      "4102/4102 [==============================] - 19s 5ms/step - loss: 0.2201 - accuracy: 0.9124 - val_loss: 0.3679 - val_accuracy: 0.8558\n",
      "Epoch 52/100\n",
      "4102/4102 [==============================] - 19s 5ms/step - loss: 0.2190 - accuracy: 0.9120 - val_loss: 0.3758 - val_accuracy: 0.8570\n",
      "Epoch 53/100\n",
      "4102/4102 [==============================] - 19s 5ms/step - loss: 0.2197 - accuracy: 0.9118 - val_loss: 0.3718 - val_accuracy: 0.8569\n",
      "Epoch 54/100\n",
      "4102/4102 [==============================] - 20s 5ms/step - loss: 0.2158 - accuracy: 0.9140 - val_loss: 0.3807 - val_accuracy: 0.8564\n",
      "Epoch 55/100\n",
      "4102/4102 [==============================] - 20s 5ms/step - loss: 0.2160 - accuracy: 0.9134 - val_loss: 0.3772 - val_accuracy: 0.8560\n",
      "Epoch 56/100\n",
      "4102/4102 [==============================] - 19s 5ms/step - loss: 0.2160 - accuracy: 0.9137 - val_loss: 0.3925 - val_accuracy: 0.8568\n",
      "Epoch 57/100\n",
      "4102/4102 [==============================] - 19s 5ms/step - loss: 0.2164 - accuracy: 0.9127 - val_loss: 0.3727 - val_accuracy: 0.8587\n",
      "Epoch 58/100\n",
      "4102/4102 [==============================] - 19s 5ms/step - loss: 0.2164 - accuracy: 0.9133 - val_loss: 0.3767 - val_accuracy: 0.8575\n",
      "Epoch 59/100\n",
      "4102/4102 [==============================] - 20s 5ms/step - loss: 0.2146 - accuracy: 0.9145 - val_loss: 0.3755 - val_accuracy: 0.8561\n",
      "Epoch 60/100\n",
      "4102/4102 [==============================] - 21s 5ms/step - loss: 0.2138 - accuracy: 0.9149 - val_loss: 0.3912 - val_accuracy: 0.8562\n",
      "Epoch 61/100\n",
      "4102/4102 [==============================] - 26s 6ms/step - loss: 0.2102 - accuracy: 0.9160 - val_loss: 0.3882 - val_accuracy: 0.8574\n",
      "Epoch 62/100\n",
      "4102/4102 [==============================] - 21s 5ms/step - loss: 0.2125 - accuracy: 0.9145 - val_loss: 0.3786 - val_accuracy: 0.8561\n",
      "Epoch 63/100\n",
      "4102/4102 [==============================] - 19s 5ms/step - loss: 0.2097 - accuracy: 0.9163 - val_loss: 0.3824 - val_accuracy: 0.8560\n",
      "Epoch 64/100\n",
      "4102/4102 [==============================] - 19s 5ms/step - loss: 0.2112 - accuracy: 0.9161 - val_loss: 0.3852 - val_accuracy: 0.8559\n",
      "Epoch 65/100\n",
      "4102/4102 [==============================] - 20s 5ms/step - loss: 0.2105 - accuracy: 0.9164 - val_loss: 0.3883 - val_accuracy: 0.8532\n",
      "Epoch 66/100\n",
      "4102/4102 [==============================] - 20s 5ms/step - loss: 0.2096 - accuracy: 0.9164 - val_loss: 0.3833 - val_accuracy: 0.8574\n",
      "Epoch 67/100\n",
      "4102/4102 [==============================] - 19s 5ms/step - loss: 0.2077 - accuracy: 0.9164 - val_loss: 0.3792 - val_accuracy: 0.8559\n",
      "Epoch 68/100\n",
      "4102/4102 [==============================] - 21s 5ms/step - loss: 0.2086 - accuracy: 0.9169 - val_loss: 0.3754 - val_accuracy: 0.8579\n",
      "Epoch 69/100\n",
      "4102/4102 [==============================] - 20s 5ms/step - loss: 0.2083 - accuracy: 0.9173 - val_loss: 0.3749 - val_accuracy: 0.8576\n",
      "Epoch 70/100\n",
      "4102/4102 [==============================] - 19s 5ms/step - loss: 0.2058 - accuracy: 0.9182 - val_loss: 0.3969 - val_accuracy: 0.8575\n",
      "Epoch 71/100\n",
      "4102/4102 [==============================] - 20s 5ms/step - loss: 0.2066 - accuracy: 0.9169 - val_loss: 0.3859 - val_accuracy: 0.8588\n",
      "Epoch 72/100\n",
      "4102/4102 [==============================] - 21s 5ms/step - loss: 0.2064 - accuracy: 0.9175 - val_loss: 0.3869 - val_accuracy: 0.8581\n",
      "Epoch 73/100\n",
      "4102/4102 [==============================] - 20s 5ms/step - loss: 0.2039 - accuracy: 0.9183 - val_loss: 0.3824 - val_accuracy: 0.8575\n",
      "Epoch 74/100\n",
      "4102/4102 [==============================] - 20s 5ms/step - loss: 0.2047 - accuracy: 0.9184 - val_loss: 0.4038 - val_accuracy: 0.8565\n",
      "Epoch 75/100\n",
      "4102/4102 [==============================] - 19s 5ms/step - loss: 0.2029 - accuracy: 0.9193 - val_loss: 0.3855 - val_accuracy: 0.8568\n",
      "Epoch 76/100\n",
      "4102/4102 [==============================] - 19s 5ms/step - loss: 0.2035 - accuracy: 0.9194 - val_loss: 0.3848 - val_accuracy: 0.8588\n",
      "Epoch 77/100\n",
      "4102/4102 [==============================] - 20s 5ms/step - loss: 0.2017 - accuracy: 0.9204 - val_loss: 0.3911 - val_accuracy: 0.8577\n",
      "Epoch 78/100\n",
      "4102/4102 [==============================] - 20s 5ms/step - loss: 0.2021 - accuracy: 0.9192 - val_loss: 0.3835 - val_accuracy: 0.8573\n",
      "Epoch 79/100\n",
      "4102/4102 [==============================] - 22s 5ms/step - loss: 0.2027 - accuracy: 0.9189 - val_loss: 0.3752 - val_accuracy: 0.8588\n",
      "Epoch 80/100\n",
      "4102/4102 [==============================] - 20s 5ms/step - loss: 0.2008 - accuracy: 0.9203 - val_loss: 0.3850 - val_accuracy: 0.8575\n",
      "Epoch 81/100\n",
      "4102/4102 [==============================] - 20s 5ms/step - loss: 0.1992 - accuracy: 0.9203 - val_loss: 0.3944 - val_accuracy: 0.8563\n",
      "Epoch 82/100\n",
      "4102/4102 [==============================] - 20s 5ms/step - loss: 0.2015 - accuracy: 0.9199 - val_loss: 0.3857 - val_accuracy: 0.8566\n",
      "Epoch 83/100\n",
      "4102/4102 [==============================] - 20s 5ms/step - loss: 0.1998 - accuracy: 0.9205 - val_loss: 0.3935 - val_accuracy: 0.8584\n",
      "Epoch 84/100\n",
      "4102/4102 [==============================] - 19s 5ms/step - loss: 0.1989 - accuracy: 0.9218 - val_loss: 0.3800 - val_accuracy: 0.8576\n",
      "Epoch 85/100\n",
      "4102/4102 [==============================] - 20s 5ms/step - loss: 0.1971 - accuracy: 0.9225 - val_loss: 0.3816 - val_accuracy: 0.8593\n",
      "Epoch 86/100\n",
      "4102/4102 [==============================] - 21s 5ms/step - loss: 0.1964 - accuracy: 0.9209 - val_loss: 0.3792 - val_accuracy: 0.8564\n",
      "Epoch 87/100\n",
      "4102/4102 [==============================] - 20s 5ms/step - loss: 0.1995 - accuracy: 0.9213 - val_loss: 0.3796 - val_accuracy: 0.8572\n",
      "Epoch 88/100\n",
      "4102/4102 [==============================] - 19s 5ms/step - loss: 0.1969 - accuracy: 0.9214 - val_loss: 0.3948 - val_accuracy: 0.8581\n",
      "Epoch 89/100\n",
      "4102/4102 [==============================] - 19s 5ms/step - loss: 0.1959 - accuracy: 0.9232 - val_loss: 0.3791 - val_accuracy: 0.8578\n",
      "Epoch 90/100\n",
      "4102/4102 [==============================] - 21s 5ms/step - loss: 0.1959 - accuracy: 0.9234 - val_loss: 0.4089 - val_accuracy: 0.8572\n",
      "Epoch 91/100\n",
      "4102/4102 [==============================] - 20s 5ms/step - loss: 0.1965 - accuracy: 0.9220 - val_loss: 0.3967 - val_accuracy: 0.8577\n",
      "Epoch 92/100\n",
      "4102/4102 [==============================] - 20s 5ms/step - loss: 0.1966 - accuracy: 0.9214 - val_loss: 0.3946 - val_accuracy: 0.8584\n",
      "Epoch 93/100\n",
      "4102/4102 [==============================] - 21s 5ms/step - loss: 0.1959 - accuracy: 0.9213 - val_loss: 0.3922 - val_accuracy: 0.8579\n",
      "Epoch 94/100\n",
      "4102/4102 [==============================] - 19s 5ms/step - loss: 0.1954 - accuracy: 0.9220 - val_loss: 0.3821 - val_accuracy: 0.8581\n",
      "Epoch 95/100\n",
      "4102/4102 [==============================] - 21s 5ms/step - loss: 0.1933 - accuracy: 0.9230 - val_loss: 0.4033 - val_accuracy: 0.8592\n",
      "Epoch 96/100\n",
      "4102/4102 [==============================] - 20s 5ms/step - loss: 0.1930 - accuracy: 0.9233 - val_loss: 0.3847 - val_accuracy: 0.8570\n",
      "Epoch 97/100\n",
      "4102/4102 [==============================] - 19s 5ms/step - loss: 0.1935 - accuracy: 0.9238 - val_loss: 0.3880 - val_accuracy: 0.8583\n",
      "Epoch 98/100\n",
      "4102/4102 [==============================] - 20s 5ms/step - loss: 0.1939 - accuracy: 0.9227 - val_loss: 0.3919 - val_accuracy: 0.8565\n",
      "Epoch 99/100\n",
      "4102/4102 [==============================] - 19s 5ms/step - loss: 0.1935 - accuracy: 0.9229 - val_loss: 0.3995 - val_accuracy: 0.8575\n",
      "Epoch 100/100\n",
      "4102/4102 [==============================] - 20s 5ms/step - loss: 0.1922 - accuracy: 0.9238 - val_loss: 0.3773 - val_accuracy: 0.8583\n"
     ]
    }
   ],
   "source": [
    "history = model.fit(X_train, y_train, batch_size=32, epochs=100, validation_data=(X_test, y_test))"
   ]
  },
  {
   "cell_type": "code",
   "execution_count": 41,
   "id": "029392b1",
   "metadata": {},
   "outputs": [
    {
     "name": "stdout",
     "output_type": "stream",
     "text": [
      "1026/1026 [==============================] - 3s 2ms/step\n"
     ]
    }
   ],
   "source": [
    "prediction =model.predict(X_test)"
   ]
  },
  {
   "cell_type": "code",
   "execution_count": 42,
   "id": "5f5da258",
   "metadata": {},
   "outputs": [],
   "source": [
    "prediction=prediction.round()"
   ]
  },
  {
   "cell_type": "code",
   "execution_count": 43,
   "id": "eb9ef4f7",
   "metadata": {},
   "outputs": [
    {
     "data": {
      "text/plain": [
       "array([1, 1, 1, ..., 1, 1, 1], dtype=int64)"
      ]
     },
     "execution_count": 43,
     "metadata": {},
     "output_type": "execute_result"
    }
   ],
   "source": [
    "y_test.to_numpy()"
   ]
  },
  {
   "cell_type": "code",
   "execution_count": 44,
   "id": "a06f9339",
   "metadata": {},
   "outputs": [
    {
     "data": {
      "text/plain": [
       "array([1, 1, 1, ..., 1, 1, 1], dtype=int64)"
      ]
     },
     "execution_count": 44,
     "metadata": {},
     "output_type": "execute_result"
    }
   ],
   "source": [
    "y_pred = tf.keras.utils.to_categorical(prediction)\n",
    "y_pred= np.argmax(y_pred, axis=1)\n",
    "y_pred"
   ]
  },
  {
   "cell_type": "markdown",
   "id": "90e3715b",
   "metadata": {},
   "source": [
    "# Evaluate the Model"
   ]
  },
  {
   "cell_type": "code",
   "execution_count": 46,
   "id": "ec9dac3c",
   "metadata": {},
   "outputs": [
    {
     "name": "stdout",
     "output_type": "stream",
     "text": [
      "              precision    recall  f1-score   support\n",
      "\n",
      "    negative       0.86      0.86      0.86     16543\n",
      "    positive       0.86      0.85      0.86     16272\n",
      "\n",
      "    accuracy                           0.86     32815\n",
      "   macro avg       0.86      0.86      0.86     32815\n",
      "weighted avg       0.86      0.86      0.86     32815\n",
      "\n"
     ]
    }
   ],
   "source": [
    " from sklearn.metrics import classification_report, confusion_matrix\n",
    "target_names = ['negative', 'positive']\n",
    "print(classification_report(y_test, y_pred, target_names=target_names))\n",
    "\n",
    "             "
   ]
  },
  {
   "cell_type": "code",
   "execution_count": 52,
   "id": "465c6f45",
   "metadata": {},
   "outputs": [
    {
     "data": {
      "image/png": "[encoded data removed]",
      "text/plain": [
       "<Figure size 432x288 with 1 Axes>"
      ]
     },
     "metadata": {
      "needs_background": "light"
     },
     "output_type": "display_data"
    }
   ],
   "source": [
    "from matplotlib import pyplot as plt\n",
    "plt.plot(history.history['accuracy'][0:10])\n",
    "plt.plot(history.history['val_accuracy'][0:10])\n",
    "plt.title('model accuracy')\n",
    "plt.ylabel('accuracy')\n",
    "plt.xlabel('epoch')\n",
    "plt.legend(['train', 'val'], loc='upper left')\n",
    "plt.show()"
   ]
  },
  {
   "cell_type": "code",
   "execution_count": 51,
   "id": "54226cb2",
   "metadata": {},
   "outputs": [
    {
     "data": {
      "image/png": "[encoded data removed]",
      "text/plain": [
       "<Figure size 432x288 with 1 Axes>"
      ]
     },
     "metadata": {
      "needs_background": "light"
     },
     "output_type": "display_data"
    }
   ],
   "source": [
    "plt.plot(history.history['loss'][0:10])\n",
    "plt.plot(history.history['val_loss'][0:10])\n",
    "plt.title('model loss')\n",
    "plt.ylabel('loss')\n",
    "plt.xlabel('epoch')\n",
    "plt.legend(['train', 'val'], loc='upper left')\n",
    "plt.show()"
   ]
  },
  {
   "cell_type": "code",
   "execution_count": null,
   "id": "725cf864",
   "metadata": {},
   "outputs": [],
   "source": []
  }
 ],
 "metadata": {
  "kernelspec": {
   "display_name": "Python 3 (ipykernel)",
   "language": "python",
   "name": "python3"
  },
  "language_info": {
   "codemirror_mode": {
    "name": "ipython",
    "version": 3
   },
   "file_extension": ".py",
   "mimetype": "text/x-python",
   "name": "python",
   "nbconvert_exporter": "python",
   "pygments_lexer": "ipython3",
   "version": "3.9.12"
  }
 },
 "nbformat": 4,
 "nbformat_minor": 5
}
